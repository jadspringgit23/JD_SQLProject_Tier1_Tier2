{
 "cells": [
  {
   "cell_type": "code",
   "execution_count": 216,
   "id": "8a77f2b4-d102-47d1-a9b6-f029e98ec395",
   "metadata": {},
   "outputs": [
    {
     "name": "stdout",
     "output_type": "stream",
     "text": [
      "2.6.0\n",
      "2. Query all tasks\n",
      "(0, 'Tennis Court 1', 5, 25, 10000, 200)\n",
      "(1, 'Tennis Court 2', 5, 25, 8000, 200)\n",
      "(2, 'Badminton Court', 0, 15.5, 4000, 50)\n",
      "(3, 'Table Tennis', 0, 5, 320, 10)\n",
      "(4, 'Massage Room 1', 9.9, 80, 4000, 3000)\n",
      "(5, 'Massage Room 2', 9.9, 80, 4000, 3000)\n",
      "(6, 'Squash Court', 3.5, 17.5, 5000, 80)\n",
      "(7, 'Snooker Table', 0, 5, 450, 15)\n",
      "(8, 'Pool Table', 0, 5, 400, 15)\n"
     ]
    }
   ],
   "source": [
    "import csv , sqlite3\n",
    "import pandas as pd\n",
    "from sqlite3 import Error\n",
    "\n",
    " \n",
    "def create_connection(db_file):\n",
    "    \"\"\" create a database connection to the SQLite database\n",
    "        specified by the db_file\n",
    "    :param db_file: database file\n",
    "    :return: Connection object or None\n",
    "    \"\"\"\n",
    "    conn = None\n",
    "    try:\n",
    "        conn = sqlite3.connect(db_file)\n",
    "        print(sqlite3.version)\n",
    "    except Error as e:\n",
    "        print(e)\n",
    " \n",
    "    return conn\n",
    "\n",
    " \n",
    "def select_all_tasks(conn):\n",
    "    \"\"\"\n",
    "    Query all rows in the tasks table\n",
    "    :param conn: the Connection object\n",
    "    :return:\n",
    "    \"\"\"\n",
    "    cur = conn.cursor()\n",
    "    \n",
    "    query1 = \"\"\"\n",
    "        SELECT *\n",
    "        FROM FACILITIES\n",
    "        \"\"\"\n",
    "    cur.execute(query1)\n",
    " \n",
    "    rows = cur.fetchall()\n",
    " \n",
    "    for row in rows:\n",
    "        print(row)\n",
    "\n",
    "\n",
    "def main():\n",
    "    database = \"sqlite_db_pythonsqlite.db\"\n",
    " \n",
    "    # create a database connection\n",
    "    conn = create_connection(database)\n",
    "    with conn: \n",
    "        print(\"2. Query all tasks\")\n",
    "        select_all_tasks(conn)\n",
    " \n",
    " \n",
    "if __name__ == '__main__':\n",
    "    main()\n"
   ]
  },
  {
   "cell_type": "code",
   "execution_count": 175,
   "id": "3aeb6ea2-5b87-4666-986c-2f1e5fbe50c6",
   "metadata": {},
   "outputs": [],
   "source": [
    "Members= pd.read_csv ('C:/Users/sejad/OneDrive/Desktop/Springboard folders/SQL case study/Members.csv')\n",
    "Bookings= pd.read_csv ('C:/Users/sejad/OneDrive/Desktop/Springboard folders/SQL case study/Bookings.csv')\n",
    "Facilities= pd.read_csv ('C:/Users/sejad/OneDrive/Desktop/Springboard folders/SQL case study/Facilities.csv')"
   ]
  },
  {
   "cell_type": "code",
   "execution_count": null,
   "id": "553b4e75-7b10-44f8-aaa0-79a14d658689",
   "metadata": {},
   "outputs": [],
   "source": [
    "# I was unable to download the data from \" sql.springboard.com\"; consequently questions 1 to 9 \n",
    " /* were performed using Python codes mixed with SQL."
   ]
  },
  {
   "cell_type": "code",
   "execution_count": null,
   "id": "8cc165d5-aeb5-4a29-9a71-ee17a8518e62",
   "metadata": {},
   "outputs": [],
   "source": []
  },
  {
   "cell_type": "code",
   "execution_count": 190,
   "id": "44e55377-7bde-4a3a-93ee-d3b2820dd673",
   "metadata": {},
   "outputs": [
    {
     "data": {
      "text/plain": [
       "[(0, 'Tennis Court 1', 5, 25, 10000, 200),\n",
       " (1, 'Tennis Court 2', 5, 25, 8000, 200),\n",
       " (2, 'Badminton Court', 0, 15.5, 4000, 50),\n",
       " (3, 'Table Tennis', 0, 5, 320, 10),\n",
       " (4, 'Massage Room 1', 9.9, 80, 4000, 3000),\n",
       " (5, 'Massage Room 2', 9.9, 80, 4000, 3000),\n",
       " (6, 'Squash Court', 3.5, 17.5, 5000, 80),\n",
       " (7, 'Snooker Table', 0, 5, 450, 15),\n",
       " (8, 'Pool Table', 0, 5, 400, 15)]"
      ]
     },
     "execution_count": 190,
     "metadata": {},
     "output_type": "execute_result"
    }
   ],
   "source": [
    "import sqlite3\n",
    "connection = sqlite3.connect(\"sqlite_db_pythonsqlite.db\")\n",
    "cursor = connection.cursor()\n",
    "cursor.execute(\"SELECT * FROM Facilities\").fetchall()"
   ]
  },
  {
   "cell_type": "code",
   "execution_count": null,
   "id": "8532270d-51b0-45b2-85f5-5148bdeb25ff",
   "metadata": {},
   "outputs": [],
   "source": [
    "/*/* QUESTIONS \n",
    "/* Q1: Some of the facilities charge a fee to members, but some do not.\n",
    "Write a SQL query to produce a list of the names of the facilities that do. */"
   ]
  },
  {
   "cell_type": "code",
   "execution_count": 196,
   "id": "5d6de155-147f-495d-a1db-2dc87bbbe68d",
   "metadata": {},
   "outputs": [
    {
     "data": {
      "text/plain": [
       "[(2, 'Badminton Court', 0, 15.5, 4000, 50),\n",
       " (3, 'Table Tennis', 0, 5, 320, 10),\n",
       " (7, 'Snooker Table', 0, 5, 450, 15),\n",
       " (8, 'Pool Table', 0, 5, 400, 15)]"
      ]
     },
     "execution_count": 196,
     "metadata": {},
     "output_type": "execute_result"
    }
   ],
   "source": [
    "cursor.execute(\"SELECT * FROM Facilities WHERE membercost = 0.0  limit 0, 30\").fetchall()\n"
   ]
  },
  {
   "cell_type": "code",
   "execution_count": null,
   "id": "87ef88db-d43e-445e-8b1c-8b8b0f861e90",
   "metadata": {},
   "outputs": [],
   "source": [
    "/* Q2: How many facilities do not charge a fee to members? */"
   ]
  },
  {
   "cell_type": "code",
   "execution_count": 197,
   "id": "1f1949e0-f62f-42e8-a5dd-b88916badde8",
   "metadata": {},
   "outputs": [
    {
     "data": {
      "text/plain": [
       "[(4,)]"
      ]
     },
     "execution_count": 197,
     "metadata": {},
     "output_type": "execute_result"
    }
   ],
   "source": [
    "cursor.execute(\"SELECT Count (*)  FROM Facilities WHERE membercost = 0.0  limit 0, 30\").fetchall()"
   ]
  },
  {
   "cell_type": "code",
   "execution_count": null,
   "id": "75674efa-415d-47ea-923b-ffcfd9bc0f8a",
   "metadata": {},
   "outputs": [],
   "source": [
    "/* Q3: Write an SQL query to show a list of facilities that charge a fee to members,\n",
    "where the fee is less than 20% of the facility's monthly maintenance cost.\n",
    "Return the facid, facility name, member cost, and monthly maintenance of the\n",
    "facilities in question. */"
   ]
  },
  {
   "cell_type": "code",
   "execution_count": 202,
   "id": "d1021946-fbba-4e35-9ac0-34bd63bc38f7",
   "metadata": {},
   "outputs": [
    {
     "data": {
      "text/plain": [
       "[(0, 'Tennis Court 1', 5, 200),\n",
       " (1, 'Tennis Court 2', 5, 200),\n",
       " (4, 'Massage Room 1', 9.9, 3000),\n",
       " (5, 'Massage Room 2', 9.9, 3000),\n",
       " (6, 'Squash Court', 3.5, 80)]"
      ]
     },
     "execution_count": 202,
     "metadata": {},
     "output_type": "execute_result"
    }
   ],
   "source": [
    "cursor.execute(\"\"\"SELECT facid, name, membercost, monthlymaintenance FROM Facilities WHERE membercost >0 AND membercost < 0.2 * ( monthlymaintenance )\n",
    "LIMIT 0, 30\"\"\" ).fetchall()"
   ]
  },
  {
   "cell_type": "code",
   "execution_count": null,
   "id": "3cb53ada-2fff-47ed-bdf8-4dc34598f067",
   "metadata": {},
   "outputs": [],
   "source": [
    "/* Q4: Write an SQL query to retrieve the details of facilities with ID 1 and 5.\n",
    "Try writing the query without using the OR operator. */"
   ]
  },
  {
   "cell_type": "code",
   "execution_count": 204,
   "id": "712cfa78-507e-4e3c-959f-1e2b0c6b96e3",
   "metadata": {},
   "outputs": [
    {
     "data": {
      "text/plain": [
       "[(1, 'Tennis Court 2', 5, 25, 8000, 200),\n",
       " (5, 'Massage Room 2', 9.9, 80, 4000, 3000)]"
      ]
     },
     "execution_count": 204,
     "metadata": {},
     "output_type": "execute_result"
    }
   ],
   "source": [
    "cursor.execute(\"SELECT * FROM Facilities WHERE facid IN (1,5) limit 0, 30\").fetchall()\n"
   ]
  },
  {
   "cell_type": "code",
   "execution_count": null,
   "id": "835ebea5-8ee2-431c-a5ca-0be13ba8fb59",
   "metadata": {},
   "outputs": [],
   "source": [
    "/* Q5: Produce a list of facilities, with each labelled as\n",
    "'cheap' or 'expensive', depending on if their monthly maintenance cost is\n",
    "more than $100. Return the name and monthly maintenance of the facilities\n",
    "in question. */"
   ]
  },
  {
   "cell_type": "code",
   "execution_count": 208,
   "id": "b6ce9649-a934-4b6e-86f4-69b72ab3bf64",
   "metadata": {},
   "outputs": [
    {
     "data": {
      "text/plain": [
       "[('Tennis Court 1', 'expensive'),\n",
       " ('Tennis Court 2', 'expensive'),\n",
       " ('Badminton Court', 'cheap'),\n",
       " ('Table Tennis', 'cheap'),\n",
       " ('Massage Room 1', 'expensive'),\n",
       " ('Massage Room 2', 'expensive'),\n",
       " ('Squash Court', 'cheap'),\n",
       " ('Snooker Table', 'cheap'),\n",
       " ('Pool Table', 'cheap')]"
      ]
     },
     "execution_count": 208,
     "metadata": {},
     "output_type": "execute_result"
    }
   ],
   "source": [
    "cursor.execute(\"\"\"\n",
    "        SELECT name AS facility_name, \n",
    "               CASE WHEN monthlymaintenance < 100 THEN 'cheap' ELSE 'expensive' END AS category \n",
    "        FROM Facilities \n",
    "        LIMIT 0, 30\n",
    "    \"\"\").fetchall()"
   ]
  },
  {
   "cell_type": "code",
   "execution_count": null,
   "id": "bcc3cdcf-0375-4781-bbf3-0e84c6e20a2c",
   "metadata": {},
   "outputs": [],
   "source": [
    "/* Q6: You'd like to get the first and last name of the last member(s)\n",
    "who signed up. Try not to use the LIMIT clause for your solution. */"
   ]
  },
  {
   "cell_type": "code",
   "execution_count": 209,
   "id": "eef01938-8965-4d93-b4f5-e648ede0d5a9",
   "metadata": {},
   "outputs": [
    {
     "data": {
      "text/plain": [
       "[('Darren', 'Smith')]"
      ]
     },
     "execution_count": 209,
     "metadata": {},
     "output_type": "execute_result"
    }
   ],
   "source": [
    "cursor.execute(\"SELECT firstname, surname FROM Members ORDER BY joindate DESC Limit 1\").fetchall()"
   ]
  },
  {
   "cell_type": "code",
   "execution_count": null,
   "id": "11c5f89c-7f45-4c3e-83c8-d792defacbe9",
   "metadata": {},
   "outputs": [],
   "source": [
    "/* Q7: Produce a list of all members who have used a tennis court.\n",
    "Include in your output the name of the court, and the name of the member\n",
    "formatted as a single column. Ensure no duplicate data, and order by\n",
    "the member name. */"
   ]
  },
  {
   "cell_type": "code",
   "execution_count": 211,
   "id": "b20cbf7a-5129-4c87-b785-460d00bfd7b5",
   "metadata": {},
   "outputs": [
    {
     "data": {
      "text/plain": [
       "[('Tennis Court 1', 'Anne', 'Baker'),\n",
       " ('Tennis Court 2', 'Anne', 'Baker'),\n",
       " ('Tennis Court 2', 'Burton', 'Tracy'),\n",
       " ('Tennis Court 1', 'Burton', 'Tracy'),\n",
       " ('Tennis Court 1', 'Charles', 'Owen')]"
      ]
     },
     "execution_count": 211,
     "metadata": {},
     "output_type": "execute_result"
    }
   ],
   "source": [
    "cursor.execute(\"\"\"\n",
    "        SELECT DISTINCT BF.name AS facility_name, M.firstname, M.surname\n",
    "        FROM \n",
    "            (SELECT B.memid, F.name\n",
    "             FROM Bookings AS B \n",
    "             JOIN Facilities AS F ON B.facid = F.facid \n",
    "             WHERE F.name LIKE 'Tennis Court%'\n",
    "            ) AS BF \n",
    "        JOIN Members AS M ON BF.memid = M.memid\n",
    "        ORDER BY M.firstname, M.surname\n",
    "        LIMIT 5\n",
    "    \"\"\").fetchall()"
   ]
  },
  {
   "cell_type": "code",
   "execution_count": null,
   "id": "2664b43a-bc0c-48a5-a6ef-cdd672eefaa1",
   "metadata": {},
   "outputs": [],
   "source": [
    "/* Q8: Produce a list of bookings on the day of 2012-09-14 which\n",
    "will cost the member (or guest) more than $30. Remember that guests have\n",
    "different costs to members (the listed costs are per half-hour 'slot'), and\n",
    "the guest user's ID is always 0. Include in your output the name of the\n",
    "facility, the name of the member formatted as a single column, and the cost.\n",
    "Order by descending cost, and do not use any subqueries. */"
   ]
  },
  {
   "cell_type": "code",
   "execution_count": 221,
   "id": "60128614-b063-4a1e-b136-8cae750f52b7",
   "metadata": {},
   "outputs": [
    {
     "data": {
      "text/plain": [
       "[('Massage Room 2', 'GUEST GUEST', 320),\n",
       " ('Massage Room 1', 'GUEST GUEST', 160),\n",
       " ('Massage Room 1', 'GUEST GUEST', 160),\n",
       " ('Massage Room 1', 'GUEST GUEST', 160),\n",
       " ('Tennis Court 2', 'GUEST GUEST', 150)]"
      ]
     },
     "execution_count": 221,
     "metadata": {},
     "output_type": "execute_result"
    }
   ],
   "source": [
    " cursor.execute(\"\"\"\n",
    "       SELECT f.name AS Facility, \n",
    "              m.firstname || ' ' || m.surname AS Member,\n",
    "              CASE WHEN b.memid != 0 THEN f.membercost * b.slots\n",
    "                   ELSE f.guestcost * b.slots\n",
    "              END AS Cost\n",
    "       FROM Bookings AS b\n",
    "       JOIN Members AS m ON b.memid = m.memid\n",
    "       JOIN Facilities AS f ON b.facid = f.facid\n",
    "       WHERE b.starttime > '2012-09-14' \n",
    "         AND b.starttime < '2012-09-15'\n",
    "       GROUP BY b.bookid\n",
    "       HAVING Cost > 30\n",
    "       ORDER BY Cost DESC\n",
    "       LIMIT 5\n",
    "   \"\"\").fetchall()"
   ]
  },
  {
   "cell_type": "code",
   "execution_count": null,
   "id": "67c6d421-3cce-4fe6-b19e-d1ed6a9d53eb",
   "metadata": {},
   "outputs": [],
   "source": [
    "/* Q9: This time, produce the same result as in Q8, but using a subquery. */"
   ]
  },
  {
   "cell_type": "code",
   "execution_count": 228,
   "id": "ec890f04-c7b1-49b6-8419-9b4886ab9adc",
   "metadata": {},
   "outputs": [
    {
     "data": {
      "text/plain": [
       "[('Massage Room 2', 'GUEST GUEST', 320),\n",
       " ('Massage Room 1', 'GUEST GUEST', 160),\n",
       " ('Massage Room 1', 'GUEST GUEST', 160),\n",
       " ('Massage Room 1', 'GUEST GUEST', 160),\n",
       " ('Tennis Court 2', 'GUEST GUEST', 150)]"
      ]
     },
     "execution_count": 228,
     "metadata": {},
     "output_type": "execute_result"
    }
   ],
   "source": [
    "cursor.execute(\"\"\"\n",
    "    SELECT Facility, Member, Cost\n",
    "    FROM (\n",
    "        SELECT f.name AS Facility, \n",
    "               m.firstname || ' ' || m.surname AS Member,\n",
    "               CASE WHEN b.memid != 0 THEN f.membercost * b.slots\n",
    "                    ELSE f.guestcost * b.slots\n",
    "               END AS Cost\n",
    "        FROM (\n",
    "            SELECT memid, facid, slots\n",
    "            FROM Bookings\n",
    "            WHERE starttime > '2012-09-14' AND starttime < '2012-09-15'\n",
    "        ) AS b\n",
    "        JOIN Members AS m ON b.memid = m.memid\n",
    "        JOIN Facilities AS f ON b.facid = f.facid\n",
    "    )\n",
    "    WHERE Cost > 30\n",
    "    ORDER BY Cost DESC\n",
    "    LIMIT 5\n",
    "\"\"\").fetchall()\n",
    "    "
   ]
  },
  {
   "cell_type": "code",
   "execution_count": null,
   "id": "371c5e24-8dd1-4f57-940d-bf6d5cdb9eae",
   "metadata": {},
   "outputs": [],
   "source": []
  },
  {
   "cell_type": "code",
   "execution_count": null,
   "id": "cc13b98b-fb72-4c9b-9e65-0fe9bbdff180",
   "metadata": {},
   "outputs": [],
   "source": [
    "/* SQLITE"
   ]
  },
  {
   "cell_type": "code",
   "execution_count": null,
   "id": "1855b72f-e3a2-4095-9ca2-5e59362355f0",
   "metadata": {},
   "outputs": [],
   "source": []
  },
  {
   "cell_type": "code",
   "execution_count": 79,
   "id": "85965b76-8d0e-44c2-9139-5c92f6b90162",
   "metadata": {},
   "outputs": [],
   "source": [
    "import sqlite3\n",
    "conn = sqlite3.connect('sqlite_db_pythonsqlite.db')"
   ]
  },
  {
   "cell_type": "code",
   "execution_count": 80,
   "id": "c00c8511-69d3-43b2-9de2-35a686153c70",
   "metadata": {},
   "outputs": [],
   "source": [
    "c = conn.cursor()"
   ]
  },
  {
   "cell_type": "code",
   "execution_count": 81,
   "id": "e80fa5ea-978d-43be-974f-90c0e289de10",
   "metadata": {},
   "outputs": [
    {
     "name": "stdout",
     "output_type": "stream",
     "text": [
      "(0, 'GUEST', 'GUEST', 'GUEST', 0, '(000) 000-0000', '', '2012-07-01 00:00:00')\n",
      "(1, 'Smith', 'Darren', '8 Bloomsbury Close, Boston', 4321, '555-555-5555', '', '2012-07-02 12:02:05')\n",
      "(2, 'Smith', 'Tracy', '8 Bloomsbury Close, New York', 4321, '555-555-5555', '', '2012-07-02 12:08:23')\n",
      "(3, 'Rownam', 'Tim', '23 Highway Way, Boston', 23423, '(844) 693-0723', '', '2012-07-03 09:32:15')\n",
      "(4, 'Joplette', 'Janice', '20 Crossing Road, New York', 234, '(833) 942-4710', '1', '2012-07-03 10:25:05')\n",
      "(5, 'Butters', 'Gerald', '1065 Huntingdon Avenue, Boston', 56754, '(844) 078-4130', '1', '2012-07-09 10:44:09')\n",
      "(6, 'Tracy', 'Burton', '3 Tunisia Drive, Boston', 45678, '(822) 354-9973', '', '2012-07-15 08:52:55')\n",
      "(7, 'Dare', 'Nancy', '6 Hunting Lodge Way, Boston', 10383, '(833) 776-4001', '4', '2012-07-25 08:59:12')\n",
      "(8, 'Boothe', 'Tim', '3 Bloomsbury Close, Reading, 00234', 234, '(811) 433-2547', '3', '2012-07-25 16:02:35')\n",
      "(9, 'Stibbons', 'Ponder', '5 Dragons Way, Winchester', 87630, '(833) 160-3900', '6', '2012-07-25 17:09:05')\n",
      "(10, 'Owen', 'Charles', '52 Cheshire Grove, Winchester, 28563', 28563, '(855) 542-5251', '1', '2012-08-03 19:42:37')\n",
      "(11, 'Jones', 'David', '976 Gnats Close, Reading', 33862, '(844) 536-8036', '4', '2012-08-06 16:32:55')\n",
      "(12, 'Baker', 'Anne', '55 Powdery Street, Boston', 80743, '844-076-5141', '9', '2012-08-10 14:23:22')\n",
      "(13, 'Farrell', 'Jemima', '103 Firth Avenue, North Reading', 57392, '(855) 016-0163', '', '2012-08-10 14:28:01')\n",
      "(14, 'Smith', 'Jack', '252 Binkington Way, Boston', 69302, '(822) 163-3254', '1', '2012-08-10 16:22:05')\n",
      "(15, 'Bader', 'Florence', '264 Ursula Drive, Westford', 84923, '(833) 499-3527', '9', '2012-08-10 17:52:03')\n",
      "(16, 'Baker', 'Timothy', '329 James Street, Reading', 58393, '833-941-0824', '13', '2012-08-15 10:34:25')\n",
      "(17, 'Pinker', 'David', '5 Impreza Road, Boston', 65332, '811 409-6734', '13', '2012-08-16 11:32:47')\n",
      "(20, 'Genting', 'Matthew', '4 Nunnington Place, Wingfield, Boston', 52365, '(811) 972-1377', '5', '2012-08-19 14:55:55')\n",
      "(21, 'Mackenzie', 'Anna', '64 Perkington Lane, Reading', 64577, '(822) 661-2898', '1', '2012-08-26 09:32:05')\n",
      "(22, 'Coplin', 'Joan', '85 Bard Street, Bloomington, Boston', 43533, '(822) 499-2232', '16', '2012-08-29 08:32:41')\n",
      "(24, 'Sarwin', 'Ramnaresh', '12 Bullington Lane, Boston', 65464, '(822) 413-1470', '15', '2012-09-01 08:44:42')\n",
      "(26, 'Jones', 'Douglas', '976 Gnats Close, Reading', 11986, '844 536-8036', '11', '2012-09-02 18:43:05')\n",
      "(27, 'Rumney', 'Henrietta', '3 Burkington Plaza, Boston', 78533, '(822) 989-8876', '20', '2012-09-05 08:42:35')\n",
      "(28, 'Farrell', 'David', '437 Granite Farm Road, Westford', 43532, '(855) 755-9876', '', '2012-09-15 08:22:05')\n",
      "(29, 'Worthington-Smyth', 'Henry', '55 Jagbi Way, North Reading', 97676, '(855) 894-3758', '2', '2012-09-17 12:27:15')\n",
      "(30, 'Purview', 'Millicent', '641 Drudgery Close, Burnington, Boston', 34232, '(855) 941-9786', '2', '2012-09-18 19:04:01')\n",
      "(33, 'Tupperware', 'Hyacinth', '33 Cheerful Plaza, Drake Road, Westford', 68666, '(822) 665-5327', '', '2012-09-18 19:32:05')\n",
      "(35, 'Hunt', 'John', '5 Bullington Lane, Boston', 54333, '(899) 720-6978', '30', '2012-09-19 11:32:45')\n",
      "(36, 'Crumpet', 'Erica', 'Crimson Road, North Reading', 75655, '(811) 732-4816', '2', '2012-09-22 08:36:38')\n",
      "(37, 'Smith', 'Darren', '3 Funktown, Denzington, Boston', 66796, '(822) 577-3541', '', '2012-09-26 18:08:45')\n"
     ]
    }
   ],
   "source": [
    "for row in c.execute(\"SELECT * FROM Members\"):\n",
    "    print(row)"
   ]
  },
  {
   "cell_type": "code",
   "execution_count": 84,
   "id": "092a873f-f164-4862-9478-e7b4da92dde5",
   "metadata": {},
   "outputs": [],
   "source": [
    " /* Q10: Produce a list of facilities with a total revenue less than 1000.\n",
    "The output of facility name and total revenue, sorted by revenue. Remember\n",
    "that there's a different cost for guests and members! */"
   ]
  },
  {
   "cell_type": "code",
   "execution_count": 88,
   "id": "6c56a97c-944d-4518-88d9-85b1b177c5d6",
   "metadata": {},
   "outputs": [],
   "source": [
    "# As sql query\n",
    "q10_query = \"\"\"SELECT sub.name, SUM( sub.revenue ) AS revenue\n",
    "FROM (\n",
    "SELECT b.facid, b.memid, f.name, f.guestcost, f.membercost, COUNT( b.facid ) AS facid_count,\n",
    "CASE\n",
    "WHEN b.memid =0\n",
    "THEN COUNT( b.facid ) * f.guestcost\n",
    "ELSE COUNT( b.facid ) * f.membercost\n",
    "END AS 'revenue'\n",
    "FROM Bookings AS b\n",
    "LEFT JOIN Facilities AS f ON b.facid = f.facid\n",
    "GROUP BY b.facid, b.memid\n",
    ") AS sub\n",
    "GROUP BY sub.facid\n",
    "HAVING revenue <=1000\"\"\""
   ]
  },
  {
   "cell_type": "code",
   "execution_count": 89,
   "id": "1273b769-42a2-4e0c-b26d-12cb180cb6df",
   "metadata": {},
   "outputs": [
    {
     "data": {
      "text/plain": [
       "[('Badminton Court', 604.5),\n",
       " ('Table Tennis', 90),\n",
       " ('Snooker Table', 115),\n",
       " ('Pool Table', 265)]"
      ]
     },
     "execution_count": 89,
     "metadata": {},
     "output_type": "execute_result"
    }
   ],
   "source": [
    "[row for row in c.execute(q10_query)]"
   ]
  },
  {
   "cell_type": "code",
   "execution_count": null,
   "id": "99df037b-bf85-41d4-84f1-36dd9c40f27c",
   "metadata": {},
   "outputs": [],
   "source": [
    "/* Q11: Produce a report of members and who recommended them in alphabetic surname,firstname order */"
   ]
  },
  {
   "cell_type": "code",
   "execution_count": 90,
   "id": "2d8f641a-979b-46b6-80de-7aca8c737119",
   "metadata": {},
   "outputs": [],
   "source": [
    "q11_query = \"\"\"SELECT m.surname, m.firstname, m.recommendedby AS recomender_id, r.surname, r.firstname\n",
    "FROM Members AS m\n",
    "LEFT JOIN Members AS r ON m.recommendedby = r.memid\n",
    "WHERE m.recommendedby !=0\n",
    "ORDER BY r.surname, r.firstname\n",
    "\"\"\""
   ]
  },
  {
   "cell_type": "code",
   "execution_count": 91,
   "id": "d32a793e-3e36-4a99-99b8-20717f17f69e",
   "metadata": {},
   "outputs": [
    {
     "name": "stdout",
     "output_type": "stream",
     "text": [
      "('Sarwin', 'Ramnaresh', '15', 'Bader', 'Florence')\n",
      "('Coplin', 'Joan', '16', 'Baker', 'Timothy')\n",
      "('Genting', 'Matthew', '5', 'Butters', 'Gerald')\n",
      "('Baker', 'Timothy', '13', 'Farrell', 'Jemima')\n",
      "('Pinker', 'David', '13', 'Farrell', 'Jemima')\n",
      "('Rumney', 'Henrietta', '20', 'Genting', 'Matthew')\n",
      "('Jones', 'Douglas', '11', 'Jones', 'David')\n",
      "('Dare', 'Nancy', '4', 'Joplette', 'Janice')\n",
      "('Jones', 'David', '4', 'Joplette', 'Janice')\n",
      "('Hunt', 'John', '30', 'Purview', 'Millicent')\n",
      "('Boothe', 'Tim', '3', 'Rownam', 'Tim')\n",
      "('Joplette', 'Janice', '1', 'Smith', 'Darren')\n",
      "('Butters', 'Gerald', '1', 'Smith', 'Darren')\n",
      "('Owen', 'Charles', '1', 'Smith', 'Darren')\n",
      "('Smith', 'Jack', '1', 'Smith', 'Darren')\n",
      "('Mackenzie', 'Anna', '1', 'Smith', 'Darren')\n",
      "('Worthington-Smyth', 'Henry', '2', 'Smith', 'Tracy')\n",
      "('Purview', 'Millicent', '2', 'Smith', 'Tracy')\n",
      "('Crumpet', 'Erica', '2', 'Smith', 'Tracy')\n",
      "('Baker', 'Anne', '9', 'Stibbons', 'Ponder')\n",
      "('Bader', 'Florence', '9', 'Stibbons', 'Ponder')\n",
      "('Stibbons', 'Ponder', '6', 'Tracy', 'Burton')\n"
     ]
    }
   ],
   "source": [
    "# The query does not create output none in sql but sqlite creates None value\n",
    "for row in c.execute(q11_query):\n",
    "    if row[3] != None:\n",
    "        print(row)"
   ]
  },
  {
   "cell_type": "code",
   "execution_count": null,
   "id": "fda60d4c-424c-4e38-b284-76a01e43a03b",
   "metadata": {},
   "outputs": [],
   "source": [
    "/* Q12: Find the facilities with their usage by member, but not guests */"
   ]
  },
  {
   "cell_type": "code",
   "execution_count": 92,
   "id": "dff3b1a3-415f-4c2a-b20f-434446ff04f0",
   "metadata": {},
   "outputs": [],
   "source": [
    "q12_query = \"\"\"SELECT b.facid, COUNT( b.memid ) AS mem_usage, f.name\n",
    "FROM (\n",
    "SELECT facid, memid\n",
    "FROM Bookings\n",
    "WHERE memid !=0\n",
    ") AS b\n",
    "LEFT JOIN Facilities AS f ON b.facid = f.facid\n",
    "GROUP BY b.facid\"\"\""
   ]
  },
  {
   "cell_type": "code",
   "execution_count": 93,
   "id": "693f0523-683b-4d78-be53-b280175da3aa",
   "metadata": {},
   "outputs": [
    {
     "data": {
      "text/plain": [
       "[(0, 308, 'Tennis Court 1'),\n",
       " (1, 276, 'Tennis Court 2'),\n",
       " (2, 344, 'Badminton Court'),\n",
       " (3, 385, 'Table Tennis'),\n",
       " (4, 421, 'Massage Room 1'),\n",
       " (5, 27, 'Massage Room 2'),\n",
       " (6, 195, 'Squash Court'),\n",
       " (7, 421, 'Snooker Table'),\n",
       " (8, 783, 'Pool Table')]"
      ]
     },
     "execution_count": 93,
     "metadata": {},
     "output_type": "execute_result"
    }
   ],
   "source": [
    "[row for row in c.execute(q12_query)]"
   ]
  },
  {
   "cell_type": "code",
   "execution_count": null,
   "id": "8b00fc01-8081-4d1f-be08-951d056c96b4",
   "metadata": {},
   "outputs": [],
   "source": [
    "/* Q13: Find the facilities usage by month, but not guests */"
   ]
  },
  {
   "cell_type": "code",
   "execution_count": 96,
   "id": "4fff2203-1cb9-4d92-b51a-45567edac0ed",
   "metadata": {},
   "outputs": [],
   "source": [
    "# MONTH function does not work in sqlite\n",
    "q13_query =\"\"\"SELECT b.months, COUNT( b.memid ) AS mem_usage\n",
    "FROM (\n",
    "SELECT strftime('%m', starttime ) AS months, memid\n",
    "FROM Bookings\n",
    "WHERE memid !=0\n",
    ") AS b\n",
    "GROUP BY b.months\"\"\""
   ]
  },
  {
   "cell_type": "code",
   "execution_count": 97,
   "id": "39554a8b-01a3-4575-8604-d22d9831ae89",
   "metadata": {},
   "outputs": [
    {
     "data": {
      "text/plain": [
       "[('07', 480), ('08', 1168), ('09', 1512)]"
      ]
     },
     "execution_count": 97,
     "metadata": {},
     "output_type": "execute_result"
    }
   ],
   "source": [
    "[row for row in c.execute(q13_query)]"
   ]
  },
  {
   "cell_type": "code",
   "execution_count": null,
   "id": "d5c4c513-1542-4f53-8d16-6228197322af",
   "metadata": {},
   "outputs": [],
   "source": []
  }
 ],
 "metadata": {
  "kernelspec": {
   "display_name": "Python 3 (ipykernel)",
   "language": "python",
   "name": "python3"
  },
  "language_info": {
   "codemirror_mode": {
    "name": "ipython",
    "version": 3
   },
   "file_extension": ".py",
   "mimetype": "text/x-python",
   "name": "python",
   "nbconvert_exporter": "python",
   "pygments_lexer": "ipython3",
   "version": "3.11.7"
  }
 },
 "nbformat": 4,
 "nbformat_minor": 5
}
